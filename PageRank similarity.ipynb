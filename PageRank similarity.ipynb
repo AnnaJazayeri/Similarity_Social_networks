{
 "cells": [
  {
   "cell_type": "markdown",
   "id": "e477ed9c",
   "metadata": {},
   "source": [
    "##### 2. Calculate PageRank values for this graph when\n",
    "• α = 1, β = 0\n",
    "\n",
    "• α = 0.85, β = 1\n",
    "\n",
    "• α = 0, β = 1"
   ]
  },
  {
   "cell_type": "code",
   "execution_count": 12,
   "id": "fc502756",
   "metadata": {},
   "outputs": [
    {
     "name": "stdout",
     "output_type": "stream",
     "text": [
      "PageRank for α = 1, β = 0 after 3 iterations: [1.63 0.54 1.42 0.81]\n",
      "PageRank for α = 0.85, β = 1 after 3 iterations: [5.35 2.52 5.04 3.58]\n",
      "PageRank for α = 0, β = 1 after 3 iterations: [1. 1. 1. 1.]\n"
     ]
    }
   ],
   "source": [
    "import numpy as np\n",
    "\n",
    "def pagerank_with_initialization(adj_matrix, alpha, beta, iterations=3):\n",
    "    # Number of nodes\n",
    "    n = len(adj_matrix)\n",
    "    \n",
    "    # Initialize out-degree vector\n",
    "    out_degrees = np.sum(adj_matrix, axis=1)\n",
    "    \n",
    "    # Initialize PageRank vector with initial values of 1 for all nodes\n",
    "    pagerank_vector = np.ones(n)\n",
    "    \n",
    "    # Perform iterations\n",
    "    for _ in range(iterations):\n",
    "        for i in range(n):\n",
    "            sum_term = np.sum((adj_matrix[:, i] * pagerank_vector) / out_degrees)\n",
    "            pagerank_vector[i] = alpha * sum_term + beta\n",
    "    # Round the pagerank values to two decimal places\n",
    "    pagerank_vector = np.round(pagerank_vector, decimals=2)\n",
    "    return pagerank_vector\n",
    "\n",
    "# Given adjacency matrix A\n",
    "A = np.array([\n",
    "    [0,1,1,1],\n",
    "    [1,0,0,1],\n",
    "    [1,0,0,0],\n",
    "    [0,0,1,0]\n",
    "])\n",
    "\n",
    "# Scenario 1: α = 1, β = 0\n",
    "scenario_1_pagerank = pagerank_with_initialization(A, alpha=1, beta=0, iterations=3)\n",
    "print(\"PageRank for α = 1, β = 0 after 3 iterations:\", scenario_1_pagerank)\n",
    "\n",
    "# Scenario 2: α = 0.85, β = 1\n",
    "scenario_2_pagerank = pagerank_with_initialization(A, alpha=0.85, beta=1, iterations=3)\n",
    "print(\"PageRank for α = 0.85, β = 1 after 3 iterations:\", scenario_2_pagerank)\n",
    "\n",
    "# Scenario 3: α = 0, β = 1\n",
    "scenario_3_pagerank = pagerank_with_initialization(A, alpha=0, beta=1, iterations=3)\n",
    "print(\"PageRank for α = 0, β = 1 after 3 iterations:\", scenario_3_pagerank)\n"
   ]
  },
  {
   "cell_type": "markdown",
   "id": "6422bc7a",
   "metadata": {},
   "source": [
    "#### 3 => c. Find the most similar node to v7 using regular equivalence."
   ]
  },
  {
   "cell_type": "code",
   "execution_count": 9,
   "id": "985a6cb9",
   "metadata": {},
   "outputs": [
    {
     "name": "stdout",
     "output_type": "stream",
     "text": [
      "Largest eigenvalue of matrix A: 3.22\n",
      "A common practice is to select an α such that α < 1/λ, where λ is the largest eigenvalue of A.\n",
      " so *α* must be less than 0.31.\n"
     ]
    }
   ],
   "source": [
    "import numpy as np\n",
    "\n",
    "# Define the adjacency matrix A\n",
    "A = np.array([\n",
    "    [0, 1, 0, 0, 0, 0, 0, 0, 0, 0],\n",
    "    [1, 0, 1, 0, 0, 0, 0, 0, 0, 0],\n",
    "    [0, 1, 0, 1, 1, 1, 0, 0, 0, 0],\n",
    "    [0, 0, 1, 0, 1, 1, 0, 0, 0, 0],\n",
    "    [0, 0, 1, 1, 0, 1, 0, 0, 0, 0],\n",
    "    [0, 0, 1, 1, 1, 0, 1, 0, 0, 0],\n",
    "    [0, 0, 0, 0, 0, 1, 0, 1, 1, 0],\n",
    "    [0, 0, 0, 0, 0, 0, 1, 0, 1, 1],\n",
    "    [0, 0, 0, 0, 0, 0, 1, 1, 0, 1],\n",
    "    [0, 0, 0, 0, 0, 0, 0, 1, 1, 0]\n",
    "])\n",
    "\n",
    "# Find the largest eigenvalue using NumPy\n",
    "largest_eigenvalue = round(np.max(np.linalg.eigvals(A)), 2)\n",
    "\n",
    "print(\"Largest eigenvalue of matrix A:\", largest_eigenvalue)\n",
    "# A common practice is to select an α such that α < 1/λ, where λ is the largest eigenvalue of A.\n",
    "print(f\"A common practice is to select an α such that α < 1/λ, where λ is the largest eigenvalue of A.\\n \\\n",
    "so *α* must be less than {round(1/largest_eigenvalue, 2)}.\")"
   ]
  },
  {
   "cell_type": "code",
   "execution_count": 12,
   "id": "849f24c2",
   "metadata": {},
   "outputs": [
    {
     "name": "stdout",
     "output_type": "stream",
     "text": [
      "The most similar node to v7 is: 6\n"
     ]
    }
   ],
   "source": [
    "# Seting the value of alpha to 0.3 that is less than 1/λ\n",
    "alpha = 0.3\n",
    "\n",
    "# Calculating the regular equivalence similarity matrix\n",
    "I = np.eye(len(A))\n",
    "# I = np.identity(A.shape[0])\n",
    "\n",
    "similarity_matrix = np.linalg.inv(I - alpha * A)\n",
    "\n",
    "# Finding the most similar node to v7 (index 6 since Python uses zero-based indexing)\n",
    "most_similar_node = np.argmax(similarity_matrix[:, 6])\n",
    "most_similar_node = most_similar_index + 1  # Convert back to 1-based indexing\n",
    "\n",
    "print(\"The most similar node to v7 is:\", most_similar_node)"
   ]
  },
  {
   "cell_type": "code",
   "execution_count": null,
   "id": "b82e9f28",
   "metadata": {},
   "outputs": [],
   "source": []
  }
 ],
 "metadata": {
  "kernelspec": {
   "display_name": "Python 3 (ipykernel)",
   "language": "python",
   "name": "python3"
  },
  "language_info": {
   "codemirror_mode": {
    "name": "ipython",
    "version": 3
   },
   "file_extension": ".py",
   "mimetype": "text/x-python",
   "name": "python",
   "nbconvert_exporter": "python",
   "pygments_lexer": "ipython3",
   "version": "3.11.5"
  }
 },
 "nbformat": 4,
 "nbformat_minor": 5
}
