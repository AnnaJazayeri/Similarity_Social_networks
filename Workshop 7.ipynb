{
 "cells": [
  {
   "cell_type": "markdown",
   "id": "ca8ca77b",
   "metadata": {},
   "source": [
    "# α = 1, β=0"
   ]
  },
  {
   "cell_type": "code",
   "execution_count": null,
   "id": "79b66d2f",
   "metadata": {},
   "outputs": [],
   "source": []
  },
  {
   "cell_type": "markdown",
   "id": "387ea9a3",
   "metadata": {},
   "source": [
    "# α = 0.85, β=1"
   ]
  },
  {
   "cell_type": "code",
   "execution_count": null,
   "id": "9189e4ce",
   "metadata": {},
   "outputs": [],
   "source": []
  },
  {
   "cell_type": "markdown",
   "id": "bf6b6278",
   "metadata": {},
   "source": [
    "# α = 0, β=1"
   ]
  },
  {
   "cell_type": "code",
   "execution_count": null,
   "id": "b539cc86",
   "metadata": {},
   "outputs": [],
   "source": []
  },
  {
   "cell_type": "markdown",
   "id": "9b134d79",
   "metadata": {},
   "source": [
    "# c. Find the most similar node to v7 using regular equivalence."
   ]
  },
  {
   "cell_type": "code",
   "execution_count": 2,
   "id": "d552f949",
   "metadata": {},
   "outputs": [
    {
     "name": "stdout",
     "output_type": "stream",
     "text": [
      "Largest eigenvalue of matrix A: 3.22\n"
     ]
    }
   ],
   "source": [
    "import numpy as np\n",
    "\n",
    "# Define the adjacency matrix A\n",
    "A = np.array([\n",
    "    [0, 1, 0, 0, 0, 0, 0, 0, 0, 0],\n",
    "    [1, 0, 1, 0, 0, 0, 0, 0, 0, 0],\n",
    "    [0, 1, 0, 1, 1, 1, 0, 0, 0, 0],\n",
    "    [0, 0, 1, 0, 1, 1, 0, 0, 0, 0],\n",
    "    [0, 0, 1, 1, 0, 1, 0, 0, 0, 0],\n",
    "    [0, 0, 1, 1, 1, 0, 1, 0, 0, 0],\n",
    "    [0, 0, 0, 0, 0, 1, 0, 1, 1, 0],\n",
    "    [0, 0, 0, 0, 0, 0, 1, 0, 1, 1],\n",
    "    [0, 0, 0, 0, 0, 0, 1, 1, 0, 1],\n",
    "    [0, 0, 0, 0, 0, 0, 0, 1, 1, 0]\n",
    "])\n",
    "\n",
    "# Find the largest eigenvalue using NumPy\n",
    "largest_eigenvalue = round(np.max(np.linalg.eigvals(A)), 2)\n",
    "\n",
    "print(\"Largest eigenvalue of matrix A:\", largest_eigenvalue)\n"
   ]
  },
  {
   "cell_type": "code",
   "execution_count": null,
   "id": "e8927ddf",
   "metadata": {},
   "outputs": [],
   "source": []
  },
  {
   "cell_type": "code",
   "execution_count": null,
   "id": "f850aff7",
   "metadata": {},
   "outputs": [],
   "source": []
  },
  {
   "cell_type": "code",
   "execution_count": null,
   "id": "d38ad021",
   "metadata": {},
   "outputs": [],
   "source": []
  },
  {
   "cell_type": "code",
   "execution_count": null,
   "id": "1a6aabf3",
   "metadata": {},
   "outputs": [],
   "source": []
  },
  {
   "cell_type": "code",
   "execution_count": null,
   "id": "bf1e7028",
   "metadata": {},
   "outputs": [],
   "source": []
  },
  {
   "cell_type": "code",
   "execution_count": null,
   "id": "98b2aebf",
   "metadata": {},
   "outputs": [],
   "source": []
  }
 ],
 "metadata": {
  "kernelspec": {
   "display_name": "Python 3 (ipykernel)",
   "language": "python",
   "name": "python3"
  },
  "language_info": {
   "codemirror_mode": {
    "name": "ipython",
    "version": 3
   },
   "file_extension": ".py",
   "mimetype": "text/x-python",
   "name": "python",
   "nbconvert_exporter": "python",
   "pygments_lexer": "ipython3",
   "version": "3.11.5"
  }
 },
 "nbformat": 4,
 "nbformat_minor": 5
}
